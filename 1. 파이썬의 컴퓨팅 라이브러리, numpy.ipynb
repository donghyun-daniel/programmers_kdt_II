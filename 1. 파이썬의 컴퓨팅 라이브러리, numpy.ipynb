{
 "cells": [
  {
   "cell_type": "markdown",
   "metadata": {},
   "source": [
    "# 1. 파이썬의 컴퓨팅 라이브러리, numpy\n",
    "**numpy를 이용해서 데이터를 다뤄봅시다!**"
   ]
  },
  {
   "cell_type": "markdown",
   "metadata": {},
   "source": [
    "### Our Goal\n",
    "1. Numpy 시작하기\n",
    "    - prerequisite : Python의 List\n",
    "    - numpy import하기\n",
    "    - numpy.array\n",
    "\n",
    "2. Numpy로 연산하기\n",
    "    - Vector - Scalar : elementwise! (+, -, *, /)\n",
    "    - Vector - Vector : elementwise / broadcasting (+, -, *, /)\n",
    "    - Indexing & Slicing\n",
    "3. Example : Linear Algebra with Numpy\n",
    "    1. basics\n",
    "    - 영벡터 : `.zeros()`\n",
    "    - 일벡터 : `.ones()`\n",
    "    - 대각행렬 : `.diag()`\n",
    "    - 항등행렬 : `.eye()`\n",
    "    - 행렬곱 : `@` / `.dot()`\n",
    "  \n",
    "    2. furthermore\n",
    "    - 트레이스 : `.trace()`\n",
    "    - 행렬식 : `.linalg.det()`\n",
    "    - 역행렬 : `.linalg.inv()`\n",
    "    - 고유값 : `.linalg.eig()`\n"
   ]
  },
  {
   "cell_type": "markdown",
   "metadata": {},
   "source": [
    "## I. Numpy 시작하기"
   ]
  },
  {
   "cell_type": "markdown",
   "metadata": {},
   "source": [
    "### numpy 가져오기"
   ]
  },
  {
   "cell_type": "code",
   "execution_count": 23,
   "metadata": {},
   "outputs": [],
   "source": [
    "import numpy as np"
   ]
  },
  {
   "cell_type": "code",
   "execution_count": 25,
   "metadata": {},
   "outputs": [
    {
     "name": "stdout",
     "output_type": "stream",
     "text": [
      "A shape : (3, 3)\n",
      "[[ 3  1  2]\n",
      " [ 1 -2  0]\n",
      " [ 1  4  2]]\n"
     ]
    }
   ],
   "source": [
    "#행렬\n",
    "A = np.array([[3, 1, 2], [1, -2, 0], [1, 4, 2]])\n",
    "\n",
    "print(f\"A shape : {np.shape(A)}\")\n",
    "print(A)"
   ]
  },
  {
   "cell_type": "code",
   "execution_count": 26,
   "metadata": {},
   "outputs": [
    {
     "name": "stdout",
     "output_type": "stream",
     "text": [
      "b shape : (3,)\n",
      "[4 1 2]\n"
     ]
    }
   ],
   "source": [
    "#벡터\n",
    "b = np.array([4, 1, 2])\n",
    "\n",
    "print(f\"b shape : {np.shape(b)}\")\n",
    "print(b)"
   ]
  },
  {
   "cell_type": "code",
   "execution_count": 27,
   "metadata": {},
   "outputs": [
    {
     "name": "stdout",
     "output_type": "stream",
     "text": [
      "A_inv shape : (3, 3)\n",
      "[[ 2.  -3.  -2. ]\n",
      " [ 1.  -2.  -1. ]\n",
      " [-3.   5.5  3.5]]\n"
     ]
    }
   ],
   "source": [
    "#역행렬\n",
    "A_inv = np.linalg.inv(A)\n",
    "\n",
    "print(f\"A_inv shape : {np.shape(A_inv)}\")\n",
    "print(A_inv)"
   ]
  },
  {
   "cell_type": "code",
   "execution_count": 28,
   "metadata": {},
   "outputs": [
    {
     "name": "stdout",
     "output_type": "stream",
     "text": [
      "x shape : (3,)\n",
      "[ 1.00000000e+00 -6.66133815e-16  5.00000000e-01]\n"
     ]
    }
   ],
   "source": [
    "#Ax = b의 x 구하기 -> x = A_inv * b\n",
    "x = A_inv @ b\n",
    "\n",
    "print(f\"x shape : {np.shape(x)}\")\n",
    "print(x)"
   ]
  },
  {
   "cell_type": "code",
   "execution_count": 29,
   "metadata": {},
   "outputs": [
    {
     "name": "stdout",
     "output_type": "stream",
     "text": [
      "bb shape : (3,)\n",
      "[4. 1. 2.]\n",
      "OK\n"
     ]
    }
   ],
   "source": [
    "#결과 검증\n",
    "bb = A @ x\n",
    "\n",
    "print(f\"bb shape : {np.shape(bb)}\")\n",
    "print(bb)\n",
    "\n",
    "if np.linalg.norm(b - bb) < 1e-3: #일정 오차보다 작다면 OK\n",
    "    print(\"OK\")\n",
    "else:\n",
    "    print(\"Not OK\")"
   ]
  },
  {
   "cell_type": "markdown",
   "metadata": {},
   "source": [
    "## II. Numpy로 연산하기"
   ]
  },
  {
   "cell_type": "markdown",
   "metadata": {},
   "source": [
    "### Scalar & Vector, Vector & Vector Operation"
   ]
  },
  {
   "cell_type": "code",
   "execution_count": 18,
   "metadata": {},
   "outputs": [
    {
     "name": "stdout",
     "output_type": "stream",
     "text": [
      "Vector x와 Scalar c의 연산\n",
      "[5 6 7]\n",
      "[-3 -2 -1]\n",
      "[ 4  8 12]\n",
      "[0.25 0.5  0.75]\n",
      "\n",
      "Vector y와 Vector z의 연산\n",
      "[ 3  7 11]\n",
      "[-1 -1 -1]\n",
      "[ 2 12 30]\n",
      "[0.5        0.75       0.83333333]\n"
     ]
    }
   ],
   "source": [
    "x = np.array([1, 2, 3])\n",
    "c = 4\n",
    "\n",
    "print(\"Vector x와 Scalar c의 연산\")\n",
    "print(f\"{x + c}\")\n",
    "print(f\"{x - c}\")\n",
    "print(f\"{x * c}\")\n",
    "print(f\"{x / c}\")\n",
    "print()\n",
    "\n",
    "y = np.array([1, 3, 5])\n",
    "z = np.array([2, 4, 6])\n",
    "\n",
    "print(\"Vector y와 Vector z의 연산\")\n",
    "print(f\"{y + z}\")\n",
    "print(f\"{y - z}\")\n",
    "print(f\"{y * z}\")\n",
    "print(f\"{y / z}\")"
   ]
  },
  {
   "cell_type": "markdown",
   "metadata": {},
   "source": [
    "## Array의 Broadcasting\n",
    "- 기본적으로 같은 Type의 data에 대해서만 연산 가능하지만 만약에 피연산자가 연산 가능하도록 변환 가능하다면 연산을 가능하게 한다. 이를 **Broadcasting**이라 한다"
   ]
  },
  {
   "cell_type": "code",
   "execution_count": 19,
   "metadata": {},
   "outputs": [
    {
     "name": "stdout",
     "output_type": "stream",
     "text": [
      "의도한 연산 방향이 아닌 예(x가 행벡터이기 때문) \n",
      " [[1 3 3]\n",
      " [4 6 6]\n",
      " [7 9 9]]\n",
      "\n",
      "의도한 연산 방향 (x를 전치) \n",
      " [[1 2 3]\n",
      " [5 6 7]\n",
      " [7 8 9]]\n"
     ]
    }
   ],
   "source": [
    "a = np.array([[1, 2, 3], [4, 5, 6], [7, 8, 9]])\n",
    "x = np.array([0, 1, 0])\n",
    "\n",
    "print(f\"의도한 연산 방향이 아닌 예(x가 행벡터이기 때문) \\n {a + x}\")\n",
    "print()\n",
    "\n",
    "x = x[:, None]\n",
    "print(f\"의도한 연산 방향 (x를 전치) \\n {a + x}\")"
   ]
  },
  {
   "cell_type": "code",
   "execution_count": 20,
   "metadata": {},
   "outputs": [
    {
     "name": "stdout",
     "output_type": "stream",
     "text": [
      "a * y \n",
      " [[ 0  2 -3]\n",
      " [ 0  5 -6]\n",
      " [ 0  8 -9]]\n"
     ]
    }
   ],
   "source": [
    "y = np.array([0, 1, -1])\n",
    "\n",
    "print(f\"a * y \\n {a * y}\")"
   ]
  },
  {
   "cell_type": "code",
   "execution_count": 21,
   "metadata": {},
   "outputs": [
    {
     "name": "stdout",
     "output_type": "stream",
     "text": [
      "t + u \n",
      " [[3 1 0]\n",
      " [4 2 1]\n",
      " [5 3 2]]\n"
     ]
    }
   ],
   "source": [
    "t = np.array([1, 2, 3])\n",
    "u = np.array([2, 0, -1])\n",
    "\n",
    "#더하려고 하는데, t가 행벡터이기 때문에 열벡터로 바꿔줘야한다\n",
    "t = t[:, None]\n",
    "\n",
    "print(f\"t + u \\n {t + u}\")"
   ]
  },
  {
   "cell_type": "markdown",
   "metadata": {},
   "source": [
    "위의 계산은 이러한 형태와 같다\n",
    "\n",
    "$$\\begin{pmatrix} 1 & 1 & 1 \\\\ 2 & 2 & 2 \\\\ 3 & 3 & 3 \\end{pmatrix} \\quad + \\quad \\begin{pmatrix} 2 & 0 & -1 \\\\ 2 & 0 & -1 \\\\ 2 & 0 & -1 \\end{pmatrix}$$"
   ]
  },
  {
   "cell_type": "markdown",
   "metadata": {},
   "source": [
    "## III. Numpy로 선형대수 지식 끼얹기"
   ]
  },
  {
   "cell_type": "markdown",
   "metadata": {},
   "source": [
    "### 영벡터(행렬)"
   ]
  },
  {
   "cell_type": "code",
   "execution_count": 30,
   "metadata": {},
   "outputs": [
    {
     "name": "stdout",
     "output_type": "stream",
     "text": [
      "[0.]\n",
      "\n",
      "[0. 0.]\n",
      "\n",
      "[[0. 0. 0.]\n",
      " [0. 0. 0.]\n",
      " [0. 0. 0.]]\n"
     ]
    }
   ],
   "source": [
    "print(np.zeros(1))\n",
    "print()\n",
    "\n",
    "print(np.zeros(2))\n",
    "print()\n",
    "\n",
    "print(np.zeros((3, 3)))"
   ]
  },
  {
   "cell_type": "markdown",
   "metadata": {},
   "source": [
    "### 일벡터(일행렬)"
   ]
  },
  {
   "cell_type": "code",
   "execution_count": 31,
   "metadata": {},
   "outputs": [
    {
     "name": "stdout",
     "output_type": "stream",
     "text": [
      "[1.]\n",
      "\n",
      "[1. 1.]\n",
      "\n",
      "[[1. 1. 1.]\n",
      " [1. 1. 1.]\n",
      " [1. 1. 1.]]\n"
     ]
    }
   ],
   "source": [
    "print(np.ones(1))\n",
    "print()\n",
    "\n",
    "print(np.ones(2))\n",
    "print()\n",
    "\n",
    "print(np.ones((3, 3)))"
   ]
  },
  {
   "cell_type": "markdown",
   "metadata": {},
   "source": [
    "### 대각행렬 (Diagonal Matrix)"
   ]
  },
  {
   "cell_type": "code",
   "execution_count": 32,
   "metadata": {},
   "outputs": [
    {
     "name": "stdout",
     "output_type": "stream",
     "text": [
      "[[2 0]\n",
      " [0 4]]\n",
      "\n",
      "[[1 0 0 0]\n",
      " [0 3 0 0]\n",
      " [0 0 5 0]\n",
      " [0 0 0 7]]\n"
     ]
    }
   ],
   "source": [
    "print(np.diag((2, 4)))\n",
    "print()\n",
    "\n",
    "print(np.diag((1, 3, 5, 7)))"
   ]
  },
  {
   "cell_type": "markdown",
   "metadata": {},
   "source": [
    "### 항등행렬 (Identity Matrix)"
   ]
  },
  {
   "cell_type": "code",
   "execution_count": 33,
   "metadata": {},
   "outputs": [
    {
     "name": "stdout",
     "output_type": "stream",
     "text": [
      "[[1 0]\n",
      " [0 1]]\n",
      "\n",
      "[[1. 0. 0.]\n",
      " [0. 1. 0.]\n",
      " [0. 0. 1.]]\n"
     ]
    }
   ],
   "source": [
    "print(np.eye(2, dtype = int))\n",
    "print()\n",
    "\n",
    "print(np.eye(3, dtype = float))"
   ]
  },
  {
   "cell_type": "markdown",
   "metadata": {},
   "source": [
    "### 행렬곱 (Dot product)"
   ]
  },
  {
   "cell_type": "code",
   "execution_count": 34,
   "metadata": {},
   "outputs": [
    {
     "name": "stdout",
     "output_type": "stream",
     "text": [
      "A * B \n",
      " [[ 7 33]\n",
      " [14 36]]\n"
     ]
    }
   ],
   "source": [
    "A = np.array([[1, 4], [2, 3]])\n",
    "B = np.array([[7, 9], [0, 6]])\n",
    "\n",
    "print(f\"A * B \\n {A @ B}\")"
   ]
  },
  {
   "cell_type": "markdown",
   "metadata": {},
   "source": [
    "### trace (Main Diagonal의 합)"
   ]
  },
  {
   "cell_type": "code",
   "execution_count": 36,
   "metadata": {},
   "outputs": [
    {
     "name": "stdout",
     "output_type": "stream",
     "text": [
      "arr \n",
      "[[1 2 3]\n",
      " [4 5 6]\n",
      " [7 8 9]]\n",
      "\n",
      "arr의 trace(Main Diagonal의 합) \n",
      " 15\n",
      "\n",
      "크기 2인 항등행렬의 trace \n",
      " 2\n"
     ]
    }
   ],
   "source": [
    "arr = np.array([[1, 2, 3], [4, 5, 6], [7, 8, 9]])\n",
    "print(f\"arr \\n{arr}\")\n",
    "print()\n",
    "\n",
    "print(f\"arr의 trace(Main Diagonal의 합) \\n {arr.trace()}\")\n",
    "print()\n",
    "\n",
    "print(f\"크기 2인 항등행렬의 trace \\n {np.eye(2, dtype = int).trace()}\")"
   ]
  },
  {
   "cell_type": "markdown",
   "metadata": {},
   "source": [
    "### Determinant"
   ]
  },
  {
   "cell_type": "code",
   "execution_count": 37,
   "metadata": {},
   "outputs": [
    {
     "name": "stdout",
     "output_type": "stream",
     "text": [
      "arr_2 \n",
      "[[2 3]\n",
      " [1 6]]\n",
      "\n",
      "det(arr_2) \n",
      "9.000000000000002\n",
      "\n",
      "arr_3 \n",
      "[[1 4 7]\n",
      " [2 5 8]\n",
      " [3 6 9]]\n",
      "\n",
      "det(arr_3) \n",
      "0.0\n"
     ]
    }
   ],
   "source": [
    "arr_2 = np.array([[2, 3], [1, 6]])\n",
    "\n",
    "print(f\"arr_2 \\n{arr_2}\")\n",
    "print()\n",
    "\n",
    "print(f\"det(arr_2) \\n{np.linalg.det(arr_2)}\")\n",
    "print()\n",
    "\n",
    "arr_3 = np.array([[1, 4, 7], [2, 5, 8], [3, 6, 9]])\n",
    "print(f\"arr_3 \\n{arr_3}\")\n",
    "print()\n",
    "\n",
    "print(f\"det(arr_3) \\n{np.linalg.det(arr_3)}\")"
   ]
  },
  {
   "cell_type": "markdown",
   "metadata": {},
   "source": [
    "### 역행렬"
   ]
  },
  {
   "cell_type": "code",
   "execution_count": 38,
   "metadata": {},
   "outputs": [
    {
     "name": "stdout",
     "output_type": "stream",
     "text": [
      "mat \n",
      "[[1 4]\n",
      " [2 3]]\n",
      "\n",
      "mat_inv \n",
      "[[-0.6  0.8]\n",
      " [ 0.4 -0.2]]\n",
      "\n",
      "mat @ mat_inv \n",
      "[[1. 0.]\n",
      " [0. 1.]]\n"
     ]
    }
   ],
   "source": [
    "mat = np.array([[1, 4], [2, 3]])\n",
    "print(f\"mat \\n{mat}\")\n",
    "print()\n",
    "\n",
    "mat_inv = np.linalg.inv(mat)\n",
    "\n",
    "print(f\"mat_inv \\n{mat_inv}\")\n",
    "print()\n",
    "\n",
    "print(f\"mat @ mat_inv \\n{mat @ mat_inv}\")"
   ]
  },
  {
   "cell_type": "markdown",
   "metadata": {},
   "source": [
    "## 고유값과 고유벡터 (Eigenvalue & Eigenvector)\n",
    "- 정방행렬(n*n) A에 대해 $Ax = \\lambda x$ 를 만족하는 $\\lambda$ 와 x를 각각 고유값과 고유벡터라고 한다"
   ]
  },
  {
   "cell_type": "code",
   "execution_count": 39,
   "metadata": {},
   "outputs": [
    {
     "name": "stdout",
     "output_type": "stream",
     "text": [
      "mat \n",
      "[[ 2  0 -2]\n",
      " [ 1  1 -2]\n",
      " [ 0  0  1]]\n",
      "\n",
      "mat's eigenvalue & eigenvector\n",
      "[1. 2. 1.]\n",
      "[[0.         0.70710678 0.89442719]\n",
      " [1.         0.70710678 0.        ]\n",
      " [0.         0.         0.4472136 ]]\n"
     ]
    }
   ],
   "source": [
    "mat = np.array([[2, 0, -2], [1, 1, -2], [0, 0, 1]])\n",
    "print(f\"mat \\n{mat}\")\n",
    "print()\n",
    "\n",
    "eigval, eigvec = np.linalg.eig(mat)\n",
    "print(f\"mat's eigenvalue & eigenvector\")\n",
    "print(eigval)\n",
    "print(eigvec)"
   ]
  },
  {
   "cell_type": "markdown",
   "metadata": {},
   "source": [
    "### Eigenvalue, Eigenvector Validation"
   ]
  },
  {
   "cell_type": "code",
   "execution_count": 40,
   "metadata": {},
   "outputs": [
    {
     "name": "stdout",
     "output_type": "stream",
     "text": [
      "[0. 1. 0.]\n",
      "[1.41421356 1.41421356 0.        ]\n",
      "[0.89442719 0.         0.4472136 ]\n"
     ]
    }
   ],
   "source": [
    "for i in range(len(mat)):\n",
    "    print(mat @ eigvec[:, i]) # Ax"
   ]
  },
  {
   "cell_type": "code",
   "execution_count": 41,
   "metadata": {},
   "outputs": [
    {
     "name": "stdout",
     "output_type": "stream",
     "text": [
      "[0. 1. 0.]\n",
      "[1.41421356 1.41421356 0.        ]\n",
      "[0.89442719 0.         0.4472136 ]\n"
     ]
    }
   ],
   "source": [
    "for i in range(len(mat)):\n",
    "    print(eigval[i] * eigvec[:, i]) # (lambda)x"
   ]
  },
  {
   "cell_type": "markdown",
   "metadata": {},
   "source": [
    "## IV. Exercises"
   ]
  },
  {
   "cell_type": "markdown",
   "metadata": {},
   "source": [
    "## IV. Mission:"
   ]
  },
  {
   "cell_type": "markdown",
   "metadata": {},
   "source": [
    "### 1. 어떤 벡터가 주어졌을 때 L2 norm을 구하는 함수 `get_L2_norm()`을 작성하세요\n",
    "\n",
    "- **매개변수** : 1차원 벡터 (`np.array`)\n",
    "- **반환값** : 인자로 주어진 벡터의 L2 Norm값 (`number`)"
   ]
  },
  {
   "cell_type": "code",
   "execution_count": 3,
   "metadata": {},
   "outputs": [
    {
     "name": "stdout",
     "output_type": "stream",
     "text": [
      "6.782329983125268\n"
     ]
    }
   ],
   "source": [
    "import numpy as np\n",
    "\n",
    "v = [1, 2, 4, 5]\n",
    "\n",
    "def get_L2_norm(v):\n",
    "    return np.sqrt(np.sum([i**2 for i in v]))\n",
    "\n",
    "print(get_L2_norm(v))"
   ]
  },
  {
   "cell_type": "markdown",
   "metadata": {},
   "source": [
    "### 2. 어떤 행렬이 singular matrix인지 확인하는 함수 `is_singular()` 를 작성하세요\n",
    "\n",
    "- 매개변수 : 2차원 벡터(`np.array`)\n",
    "- 반환값 : 인자로 주어진 벡터가 singular하면 True, non-singular하면 False를 반환 "
   ]
  },
  {
   "cell_type": "code",
   "execution_count": 16,
   "metadata": {},
   "outputs": [
    {
     "name": "stdout",
     "output_type": "stream",
     "text": [
      "True\n",
      "False\n"
     ]
    }
   ],
   "source": [
    "a = [[1, 3], [2, 6]]\n",
    "b = [[1, 4], [5, 2]]\n",
    "\n",
    "def is_singular(v2):\n",
    "    if np.linalg.slogdet(v2)[0] == 0: return True \n",
    "    else: return False\n",
    "    \n",
    "print(is_singular(a))\n",
    "print(is_singular(b))"
   ]
  }
 ],
 "metadata": {
  "kernelspec": {
   "display_name": "Python 3",
   "language": "python",
   "name": "python3"
  },
  "language_info": {
   "codemirror_mode": {
    "name": "ipython",
    "version": 3
   },
   "file_extension": ".py",
   "mimetype": "text/x-python",
   "name": "python",
   "nbconvert_exporter": "python",
   "pygments_lexer": "ipython3",
   "version": "3.8.5"
  }
 },
 "nbformat": 4,
 "nbformat_minor": 4
}
